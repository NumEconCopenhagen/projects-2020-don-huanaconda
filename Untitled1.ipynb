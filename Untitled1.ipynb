{
 "cells": [
  {
   "cell_type": "markdown",
   "metadata": {},
   "source": [
    "# Project 0: Project Inaugural"
   ]
  },
  {
   "cell_type": "markdown",
   "metadata": {},
   "source": [
    "## Importing relevant packages "
   ]
  },
  {
   "cell_type": "code",
   "execution_count": 1,
   "metadata": {},
   "outputs": [],
   "source": [
    "import numpy as np\n",
    "from scipy import optimize \n",
    "import matplotlib.pyplot as plt \n",
    "\n",
    "#Defining function\n",
    "def utilityfunction(c, v, l, epsilon):\n",
    "    u = np.log(c)-v*((l**(1+(1/epsilon)))/(1+(1/epsilon)))\n",
    "    return u \n",
    "\n",
    "#Defining BC\n",
    "def budgetconstraint(l, w, m, tau0, tau1,kappa):\n",
    "    x = m + w*l - (tau0*w*l + tau1*max(w*l - kappa, 0))\n",
    "    return x\n",
    "\n",
    "#Defining solve\n",
    "def solve(u):\n",
    "    \n",
    "    obj = lambda u: f(u[0])\n",
    "    res = optimize.minimize(obj, u, method='Nelder-Meat')\n",
    "    u_best_scipy = res.u[0]\n",
    "    f_best_scipy = res.fun\n",
    "    \n",
    "    print(f'best with scipy.optimise is {f_best_scipy:.8f} at u = {u_best_scipy:.8f}')\n",
    "    \n",
    "    "
   ]
  }
 ],
 "metadata": {
  "kernelspec": {
   "display_name": "Python 3",
   "language": "python",
   "name": "python3"
  },
  "language_info": {
   "codemirror_mode": {
    "name": "ipython",
    "version": 3
   },
   "file_extension": ".py",
   "mimetype": "text/x-python",
   "name": "python",
   "nbconvert_exporter": "python",
   "pygments_lexer": "ipython3",
   "version": "3.7.4"
  }
 },
 "nbformat": 4,
 "nbformat_minor": 4
}
