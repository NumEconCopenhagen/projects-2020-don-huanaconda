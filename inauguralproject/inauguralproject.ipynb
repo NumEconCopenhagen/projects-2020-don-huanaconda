{
 "cells": [
  {
   "cell_type": "markdown",
   "metadata": {},
   "source": [
    "# Inaugral Project"
   ]
  },
  {
   "cell_type": "markdown",
   "metadata": {},
   "source": [
    "**Importing relevant packages**"
   ]
  },
  {
   "cell_type": "code",
   "execution_count": 15,
   "metadata": {},
   "outputs": [
    {
     "name": "stdout",
     "output_type": "stream",
     "text": [
      "The autoreload extension is already loaded. To reload it, use:\n",
      "  %reload_ext autoreload\n"
     ]
    }
   ],
   "source": [
    "import numpy as np\n",
    "from scipy import optimize #Optimize\n",
    "import matplotlib.pyplot as plt #Plotting of figures\n",
    "\n",
    "# autoreload modules when code is run\n",
    "%load_ext autoreload\n",
    "%autoreload 2"
   ]
  },
  {
   "cell_type": "markdown",
   "metadata": {},
   "source": [
    "**Question 1**"
   ]
  },
  {
   "cell_type": "markdown",
   "metadata": {},
   "source": [
    "The relevant global variables are initially defined. The utility function as well as the budget constraint is then set up. In the budget constraint we impose $c^*=x$ to limit the maximization problem to $l$."
   ]
  },
  {
   "cell_type": "code",
   "execution_count": 16,
   "metadata": {},
   "outputs": [],
   "source": [
    "# Defining global variables\n",
    "m = 1 \n",
    "v = 10 \n",
    "eps = 0.3\n",
    "eps_new = 0.1\n",
    "tau_0 = 0.4 \n",
    "tau_1 = 0.1 \n",
    "kappa = 0.4 \n",
    "w = 1 # We note w is in fact in the range of 0.5 to 1.5"
   ]
  },
  {
   "cell_type": "code",
   "execution_count": 17,
   "metadata": {},
   "outputs": [],
   "source": [
    "# Defining (1) and the budget constraint (bc) while substituting x = c*\n",
    "\n",
    "def utility(c, l, v, eps):\n",
    "    u = np.log(c) - v*((l**(1+(1/eps)))/(1+(1/eps)))\n",
    "    return u\n",
    "\n",
    "def bc(l, m, w, tau_0, tau_1, kappa):\n",
    "    c = m + w*l - (tau_0*w*l+tau_1*max(w*l-kappa, 0))\n",
    "    return c"
   ]
  },
  {
   "cell_type": "markdown",
   "metadata": {},
   "source": [
    "The objective function is set. We note, that in order to maximize utility we require the objective function to return a negative value for utility. This is the case since we optimize with scipy with optimize.minimize_scalar, which attempts to minimize rather than maximize."
   ]
  },
  {
   "cell_type": "code",
   "execution_count": 18,
   "metadata": {},
   "outputs": [],
   "source": [
    "# Since this minimizes the utility we minimize the negative ulitity to get the max.\n",
    "\n",
    "def objective_function(l, w, eps, tau_0, tau_1, kappa, v, m):\n",
    "    c = bc(l = l, m = m, w = w, tau_0 = tau_0, tau_1 = tau_1, kappa = kappa)\n",
    "    #returns negative utility to use for optimization\n",
    "    return -utility(l = l, c = c, eps = eps, v = v)"
   ]
  },
  {
   "cell_type": "markdown",
   "metadata": {},
   "source": [
    "We call the optimizer and bound $l$ such that $l\\in(0,1)$  which yields the optimal labour supply $l^*$. This is used to compute optimal total resources, $x$, which is of course equal to $c$. Finally we calculate the utility $U(c^*,l^*)$."
   ]
  },
  {
   "cell_type": "code",
   "execution_count": 19,
   "metadata": {},
   "outputs": [
    {
     "name": "stdout",
     "output_type": "stream",
     "text": [
      "The optimal labour supply is 0.400\n",
      "The optimal consumption is 1.240\n",
      "The maximized utility is 0.172\n"
     ]
    }
   ],
   "source": [
    "# Optimizing using scipy\n",
    "def optimizer(w, eps, v, tau_0, tau_1, kappa, m):\n",
    "    solve = optimize.minimize_scalar(\n",
    "        objective_function, method='bounded',\n",
    "        bounds=(0,1),args=(w, eps, tau_0, tau_1, kappa, v, m))    \n",
    "# Finding optimizing values and storing of l,c,u\n",
    "    l_opt = solve.x\n",
    "    c_opt = bc(m = m, w = w, l = l_opt, tau_0 = tau_0, tau_1 = tau_1, kappa = kappa)\n",
    "    u_opt = utility(c = c_opt, l = l_opt,  eps = eps, v = v)\n",
    "    return l_opt, c_opt, u_opt\n",
    "# storing optima for w=1\n",
    "l_opt, c_opt, u_opt = optimizer(w = w, eps = eps,v = v,tau_0 = tau_0,tau_1 = tau_1,kappa = kappa, m = m)\n",
    "\n",
    "# printing results\n",
    "print(f'The optimal labour supply is {l_opt:.3f}')\n",
    "print(f'The optimal consumption is {c_opt:.3f}')\n",
    "print(f'The maximized utility is {u_opt:.3f}')"
   ]
  },
  {
   "cell_type": "markdown",
   "metadata": {},
   "source": [
    "**Question 2**"
   ]
  },
  {
   "cell_type": "markdown",
   "metadata": {},
   "source": [
    "We wish to plot labour and conspumption as a function of the wage. We set up a vector of $w$ to loop over between 0.5 and 1.5 and storage for labour and consumption."
   ]
  },
  {
   "cell_type": "code",
   "execution_count": 20,
   "metadata": {},
   "outputs": [],
   "source": [
    "# Setting up values of w between 0.5 and 1.5 in the vector, w_vec, and empty storage for labour & cons.\n",
    "N = 1000\n",
    "w_vec = np.linspace(0.5, 1.5, N) #define a vector of w from 0.5 to 1,5\n",
    "l_vec = np.empty(N) #storage for labour\n",
    "c_vec = np.empty(N) #storage for consumption"
   ]
  },
  {
   "cell_type": "markdown",
   "metadata": {},
   "source": [
    "Then we loop through the wage rate, finding the optimal level of labour and consumption before plotting these relations in the figure below."
   ]
  },
  {
   "cell_type": "code",
   "execution_count": 21,
   "metadata": {},
   "outputs": [
    {
     "data": {
      "text/plain": [
       "<matplotlib.legend.Legend at 0x10169af6d0>"
      ]
     },
     "execution_count": 21,
     "metadata": {},
     "output_type": "execute_result"
    },
    {
     "data": {
      "image/png": "[encoded data removed]",
      "text/plain": [
       "<Figure size 432x288 with 1 Axes>"
      ]
     },
     "metadata": {
      "needs_background": "light"
     },
     "output_type": "display_data"
    }
   ],
   "source": [
    "for i, w in enumerate(w_vec):\n",
    "    bundle = optimizer(w = w, eps = 0.3,v = v,tau_0 = tau_0,tau_1 = tau_1,kappa = kappa,m = m)\n",
    "    l_vec[i] = bundle[0]\n",
    "    c_vec[i] = bundle[1]\n",
    "# Setting up figure using plt\n",
    "fig = plt.figure()\n",
    "ax = fig.add_subplot(1,1,1)\n",
    "ax.plot(w_vec,c_vec,ls='--',lw=2,color='blue',label='Consumption')\n",
    "ax.plot(w_vec,l_vec,ls='--',lw=2,color='black',label='Labor')\n",
    "ax.set_xlabel('Value of w')\n",
    "ax.set_ylabel('Consumption, Labour')\n",
    "ax.grid(True)\n",
    "ax.legend(loc='center left')"
   ]
  },
  {
   "cell_type": "markdown",
   "metadata": {},
   "source": [
    "**Question 3**"
   ]
  },
  {
   "cell_type": "markdown",
   "metadata": {},
   "source": [
    "The wage rate in the population is uniformly distributed between 0.5 and 1.5. We randomly draw 10.000 values of the wage rate and define the total tax. For each wage rate we calculate the tax payment for each individual given the optimal labour supply find through the optimizer. The sum of these individual tax payments yields the total tax revenue."
   ]
  },
  {
   "cell_type": "code",
   "execution_count": 22,
   "metadata": {},
   "outputs": [
    {
     "name": "stdout",
     "output_type": "stream",
     "text": [
      "The total tax revenue is 1631.3\n"
     ]
    }
   ],
   "source": [
    "# Drawing 10.000 random wage rates from a uniform distribution in the interval (0.5, 1.5)\n",
    "pop_wage_draw = np.random.uniform(0.5,1.5,size=10000)\n",
    "\n",
    "# Defining the total_tax function and an empty array of 0s with N=10000\n",
    "def total_tax(pop_wage_draw, eps, v, tau_0, tau_1, kappa, m):\n",
    "    N=len(pop_wage_draw)\n",
    "    pop_indi_tax=np.zeros(N)\n",
    "    \n",
    "# For each wage rate, return the optimal labour supply calculated through optimizer function\n",
    "    for i,w in enumerate(pop_wage_draw):\n",
    "        l_opt_q3=optimizer(w, eps, v, tau_0, tau_1, kappa, m)\n",
    "        opt_lab_q3=l_opt_q3[0]\n",
    "        \n",
    "# Returning tax payment given the optimal labour supply\n",
    "        pop_indi_tax[i]=tau_0*w*opt_lab_q3+tau_1*max(w*opt_lab_q3-kappa,0)\n",
    "    \n",
    "# Taking the sum of all tax payments\n",
    "    tot1=sum(pop_indi_tax)\n",
    "    return tot1\n",
    "\n",
    "# Calling total tax revenue using the array of randomly drawn wages\n",
    "revenue = total_tax(pop_wage_draw,eps,v,tau_0,tau_1,kappa,m)\n",
    "# Printing the result\n",
    "print(f'The total tax revenue is {revenue:.1f}')"
   ]
  },
  {
   "cell_type": "markdown",
   "metadata": {},
   "source": [
    "**Question 4**"
   ]
  },
  {
   "cell_type": "markdown",
   "metadata": {},
   "source": [
    "An eqvualent procedure to question 3 is carried out, this time imposing a lower Frisch elasticity of labour supply, $\\epsilon=0.1$."
   ]
  },
  {
   "cell_type": "code",
   "execution_count": 23,
   "metadata": {},
   "outputs": [
    {
     "name": "stdout",
     "output_type": "stream",
     "text": [
      "The total tax revenue is 3200.0\n"
     ]
    }
   ],
   "source": [
    "pop_wage_draw = np.random.uniform(0.5,1.5,size=10000)\n",
    "\n",
    "def total_tax(pop_wage_draw, eps_new, v, tau_0, tau_1, kappa, m):\n",
    "    N=len(pop_wage_draw)\n",
    "    pop_indi_tax=np.zeros(N)\n",
    "    \n",
    "    for i,w in enumerate(pop_wage_draw):\n",
    "        l_opt_q3=optimizer(w, eps_new, v, tau_0, tau_1, kappa, m)\n",
    "        opt_lab_q3=l_opt_q3[0]\n",
    "        \n",
    "        pop_indi_tax[i]=tau_0*w*opt_lab_q3+tau_1*max(w*opt_lab_q3-kappa,0)\n",
    "    \n",
    "    tot2=sum(pop_indi_tax)\n",
    "    return tot2\n",
    "\n",
    "revenue_2 = total_tax(pop_wage_draw,eps_new,v,tau_0,tau_1,kappa,m)\n",
    "# Printing the result\n",
    "print(f'The total tax revenue is {revenue_2:.1f}')"
   ]
  },
  {
   "cell_type": "markdown",
   "metadata": {},
   "source": [
    "**Question 5**"
   ]
  },
  {
   "cell_type": "markdown",
   "metadata": {},
   "source": [
    "A new optimizer is defined. This has the purpose of optimizing the tax revenue defined as in question 3 by setting the standard labour income tax, $/tau_0$, the top bracket labour income tax, $\\tau_1$, and the cut-off value for the top labour income bracket, $\\kappa$. Once more given the structure of optimize.minimize we functionally wish to minimize the negative total tax revenue."
   ]
  },
  {
   "cell_type": "code",
   "execution_count": 24,
   "metadata": {},
   "outputs": [
    {
     "name": "stdout",
     "output_type": "stream",
     "text": [
      "The optimal lower tax rate, tau_0, is 0.785\n",
      "The optimal upper tax rate, tau_1, is 0.054\n",
      "The optimal cut off for the top income brakcet, kappa, is 0.531\n",
      "The estimated total tax revenue with optimal tau_0, tau_1 and kappa is 5271.43\n"
     ]
    }
   ],
   "source": [
    "# Defining the tax function to be optimized\n",
    "def tax_to_be_opt(tax, pop_wage_draw, eps, v, m):\n",
    "    \n",
    "    t0 = tax[0]\n",
    "    t1 = tax[1]\n",
    "    k = tax[2]\n",
    "    return -total_tax(pop_wage_draw, eps, v, tau_0, tau_1, kappa, m)\n",
    "\n",
    "def tax_optimizer(pop_wage_draw, eps, v, m):\n",
    "    # Given the enormous processing time, the results are plugged in to minimize the processing time\n",
    "    initial_guess = [0.785, 0.054, 0.531] \n",
    "    sol = optimize.minimize(tax_to_be_opt, initial_guess, method='Nelder-Mead', args=(pop_wage_draw, eps, v, m))\n",
    "\n",
    "    tau_0_opt = sol.x[0]\n",
    "    tau_1_opt = sol.x[1]\n",
    "    kappa_opt = sol.x[2]\n",
    "    \n",
    "    print(f'The optimal lower tax rate, tau_0, is {tau_0_opt:.3f}')\n",
    "    print(f'The optimal upper tax rate, tau_1, is {tau_1_opt:.3f}')\n",
    "    print(f'The optimal cut off for the top income brakcet, kappa, is {kappa_opt:.3f}')\n",
    "    \n",
    "    return[tau_0_opt, tau_1_opt, kappa_opt]\n",
    "\n",
    "tau_0_opt, tau_1_opt, kappa_opt = tax_optimizer(pop_wage_draw, eps, v, m)\n",
    "Revenue_3 = total_tax(pop_wage_draw, eps_new, v, tau_0_opt, tau_1_opt, kappa_opt, m)\n",
    "print(f'The estimated total tax revenue with optimal tau_0, tau_1 and kappa is {Revenue_3:.2f}')"
   ]
  },
  {
   "cell_type": "markdown",
   "metadata": {},
   "source": [
    "**Conclusion**"
   ]
  },
  {
   "cell_type": "markdown",
   "metadata": {},
   "source": [
    "Given certain patameter values, tax rates and wage levels the optimal labour supply and consumption is initially computed. By imposing changes within the wage levels, we unsurprisingly conclude both labour supply and consumption to be increasing in wage levels. With given tax rates of $\\tau_0 = 0.4$ and $\\tau_1 = 0.1$ we find tax revenue to be decreasing in the Frisch elasticity of labour supply, $\\epsilon$. Finally, we find that politicians are able to maximize tax revenue, for a given Frisch elasticity of labour supply and distribution of wages, by changing labour income taxes, $\\tau_1$ and $\\tau_2$ as well as the cut-off value for the top labour income bracket, $\\kappa$. Compared to the starting parameter values of $\\tau_1$, $\\tau_2$ and $\\kappa$, we conclude that in order to maximize tax revenue the standard income tax rate should increase and both the top bracket income tax rate and he cut-off value for the top labour income bracket decrease."
   ]
  }
 ],
 "metadata": {
  "kernelspec": {
   "display_name": "Python 3",
   "language": "python",
   "name": "python3"
  },
  "language_info": {
   "codemirror_mode": {
    "name": "ipython",
    "version": 3
   },
   "file_extension": ".py",
   "mimetype": "text/x-python",
   "name": "python",
   "nbconvert_exporter": "python",
   "pygments_lexer": "ipython3",
   "version": "3.7.4"
  }
 },
 "nbformat": 4,
 "nbformat_minor": 4
}
